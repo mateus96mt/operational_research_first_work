{
  "nbformat": 4,
  "nbformat_minor": 0,
  "metadata": {
    "colab": {
      "name": "TRAB1-PO-MATEUS-TEIXEIRA-MAGALHAES.ipynb",
      "provenance": [],
      "collapsed_sections": [],
      "authorship_tag": "ABX9TyMOqOhf3yMpLLXhm/dViXZJ",
      "include_colab_link": true
    },
    "kernelspec": {
      "name": "python3",
      "display_name": "Python 3"
    }
  },
  "cells": [
    {
      "cell_type": "markdown",
      "metadata": {
        "id": "view-in-github",
        "colab_type": "text"
      },
      "source": [
        "<a href=\"https://colab.research.google.com/github/mateus96mt/operational_research_first_work/blob/main/TRAB1_PO_MATEUS_TEIXEIRA_MAGALHAES.ipynb\" target=\"_parent\"><img src=\"https://colab.research.google.com/assets/colab-badge.svg\" alt=\"Open In Colab\"/></a>"
      ]
    },
    {
      "cell_type": "markdown",
      "metadata": {
        "id": "VgACSBc0gdoF"
      },
      "source": [
        "#**Problema escolhido: exemplo 2.3-4 do livro referência.**\n",
        "---\n",
        "\n",
        "##Modelo de produção de roupas de inverno para um único período\n",
        "\n",
        "\n",
        "\n",
        "**Definição do problema de forma resumida:**\n",
        "\n",
        "Uma empresa fabrica peças de roupa de inverno e devem entregar os produtos de forma a atender uma demanda. Cada produto possui a sua demanda, o não cumprimento da demanda acarreta em multa com um valor fixo para cada produto não entregue. As peças de roupa são fabricadas em 4 departamentos diferentes e cada um possui uma capacidade de produção. As informações podem ser visualizadas na tabela:\n",
        "\n",
        "\n"
      ]
    },
    {
      "cell_type": "markdown",
      "metadata": {
        "id": "pyVPK7v1sY2f"
      },
      "source": [
        "|Departamento  | Parca   | Penas    | Calças   | Luvas   | Capacidade (por hora)   |\n",
        "|----:|------:-------|:-----------|:------|:------|:------|\n",
        "| Corte | 0,30  | 0,30       | 0,25   | 0,15     |   1.000     |\n",
        "| Isolamento | 0,25  | 0,35       | 0,30   | 0,10     |   1.000     |\n",
        "| Costura | 0,45  | 0,50       | 0,40   | 0,22     |   1.000     |\n",
        "| Embalagem | 0,15  | 0,15       | 0,10   | 0,05     |   1.000     |\n",
        "| Demanda | 800  | 750       | 600   | 500     |        |\n",
        "| Lucro por unidade (\\$) | 30  | 40       | 20   | 10     |        |\n",
        "| Multa por unidade (\\$) | 15  | 20       | 10   | 8     |        |\n",
        "\n",
        "\n"
      ]
    },
    {
      "cell_type": "markdown",
      "metadata": {
        "id": "SjBD9ZoGvM46"
      },
      "source": [
        "#**MODELO MATEMÁTICO**\n",
        "---"
      ]
    },
    {
      "cell_type": "markdown",
      "metadata": {
        "id": "s4VvnyiR59on"
      },
      "source": [
        "##**Definição das variáveis do problema:**\n",
        "\n",
        "O número de peças de roupas produzidas pode ser definido pelas variáveis:\n",
        "\n",
        "$x_1=$ número de parcas\n",
        "\n",
        "$x_2=$ número de jaquetas de penas\n",
        "\n",
        "$x_3=$ número de calças\n",
        "\n",
        "$x_4=$ número de pares de luvas\n",
        "\n",
        "A empresa é multada caso não atenda a demanda, assim podemos definir as variáveis relacionadas a quantidade de itens faltantes, definindo $s_j$ = número de unidades faltantes do produto $j$, $j=1,2,3,4$ :\n",
        "\n",
        "$s_1=$ número faltante de parcas\n",
        "\n",
        "$s_2=$ número faltante de jaquetas de penas\n",
        "\n",
        "$s_3=$ número faltante de calças\n",
        "\n",
        "$s_4=$ número faltantede pares de luvas"
      ]
    },
    {
      "cell_type": "markdown",
      "metadata": {
        "id": "5AZVjvLe59zb"
      },
      "source": [
        "##**Definição das restrições do problema:**\n",
        "\n",
        "Da demanda de cada produto podemos estabelecer as relações:\n",
        "\n",
        "$x_1 + s_1 = 800$\n",
        "\n",
        "$x_2 + s_2 = 750$\n",
        "\n",
        "$x_3 + s_3 = 600$\n",
        "\n",
        "$x_4 + s_4 = 500$\n",
        "\n",
        "A partir das capacidades disponíveis em cada departamento, primeiras 4 linhas da tabela de dados, temos as restrições:\n",
        "\n",
        "$0,30x_1+0,30x_2+0,25x_3+0,15x_4\\leq1.000$ (Corte)\n",
        "\n",
        "$0,25x_1+0,35x_2+0,30x_3+0,10x_4\\leq1.000$ (Isolamento)\n",
        "\n",
        "$0,45x_1+0,50x_2+0,40x_3+0,22x_4\\leq1.000$ (Costura)\n",
        "\n",
        "$0,15x_1+0,15x_2+0,10x_3+0,05x_4\\leq1.000$ (Embalagem)"
      ]
    },
    {
      "cell_type": "markdown",
      "metadata": {
        "id": "BEP8wpYU597Z"
      },
      "source": [
        "##**Definição da função objetivo do problema:**\n",
        "\n",
        "O objetivo da empresa é maximizar os lucros. Como existem multas que podem ser aplicadas temos que a função objetivo é:\n",
        "\n",
        "Maximizar z = lucro - multas\n",
        "\n",
        "o lucro pode ser obtido pela linha \"Lucro por unidade($)\" e a multa pela coluna de multa da tabela:\n",
        "\n",
        "logo a função objetivo é da forma:\n",
        "\n",
        "**Maximizar** $z=30x_1 + 40x_2 + 20x_3 + 10x_4 - (15s_1 + 20s_2+10s_3+8s_4)$\n",
        "\n",
        "Dessa forma chegamos ao modelo."
      ]
    },
    {
      "cell_type": "markdown",
      "metadata": {
        "id": "o2fwxk-N5-DR"
      },
      "source": [
        "##**Modelo matemático:**\n",
        "**Maximizar** $z=30x_1 + 40x_2 + 20x_3 + 10x_4 - (15s_1 + 20s_2+10s_3+8s_4)$\n",
        "\n",
        "**sujeito a**\n",
        "\n",
        "$\\quad \\quad \\quad \\quad 0,30x_1+0,30x_2+0,25x_3+0,15x_4\\leq1.000$ \\\\\n",
        "$\\quad \\quad \\quad \\quad 0,25x_1+0,35x_2+0,30x_3+0,10x_4\\leq1.000$ \\\\\n",
        "$\\quad \\quad \\quad \\quad 0,45x_1+0,50x_2+0,40x_3+0,22x_4\\leq1.000$ \\\\\n",
        "$\\quad \\quad \\quad \\quad 0,15x_1+0,15x_2+0,10x_3+0,05x_4\\leq1.000$ \\\\\n",
        "$x_1 + s_1 = 800, x_2 + s_2 = 750, x_3 + s_3 = 600, x_4 + s_4 = 500$ \\\\\n",
        "$\\quad \\quad \\quad \\quad \\quad \\quad \\quad \\quad x_j, s_j\\geq 0, j = 1, 2, 3, 4$"
      ]
    },
    {
      "cell_type": "markdown",
      "metadata": {
        "id": "v1QqAiM7Kplf"
      },
      "source": [
        "#**Implementação do modelo matemático no Gurobi**\n",
        "---\n",
        "\n",
        "Dado o problema exemplo e o seu modelo matemático vamos agora mostrar um resolvedor para buscar soluções ótimas para o problema, o Gurobi.\n",
        "\n",
        "Utilizaremos a linguagem python e a biblioteca do Gurobi.\n",
        "\n",
        "O primeiro passo é importar o Gurobi para ser utilizado, vamos para o código:"
      ]
    },
    {
      "cell_type": "code",
      "metadata": {
        "colab": {
          "base_uri": "https://localhost:8080/"
        },
        "id": "a5L3qedQKowR",
        "outputId": "a37612ad-40d2-429e-b179-7e6c68b606f6"
      },
      "source": [
        "#para instalar a biblioteca do Gurobi\n",
        "%pip install -i https://pypi.gurobi.com gurobipy\n",
        "\n",
        "#importando a mesma para uso\n",
        "import gurobipy as gp"
      ],
      "execution_count": 3,
      "outputs": [
        {
          "output_type": "stream",
          "text": [
            "Looking in indexes: https://pypi.gurobi.com\n",
            "Requirement already satisfied: gurobipy in /usr/local/lib/python3.7/dist-packages (9.1.1)\n"
          ],
          "name": "stdout"
        }
      ]
    },
    {
      "cell_type": "markdown",
      "metadata": {
        "id": "4l7n5OTXN0co"
      },
      "source": [
        "Agora que temos o ambiente pronto para utilizarmos o Gurobi vamos criar o modelo do problema:"
      ]
    },
    {
      "cell_type": "code",
      "metadata": {
        "colab": {
          "base_uri": "https://localhost:8080/"
        },
        "id": "VK_A4kCXODPi",
        "outputId": "ea3d0fbd-6c97-4ac8-df86-be2eadbbae05"
      },
      "source": [
        "#Criar o modelo através do método \"Model\" do Gurobi\n",
        "\n",
        "model = gp.Model(\"exemplo 2.3-4\")"
      ],
      "execution_count": 4,
      "outputs": [
        {
          "output_type": "stream",
          "text": [
            "Restricted license - for non-production use only - expires 2022-01-13\n"
          ],
          "name": "stdout"
        }
      ]
    },
    {
      "cell_type": "markdown",
      "metadata": {
        "id": "1O52rrJ2Oaxu"
      },
      "source": [
        "Vamos definir as variáveis do problema:"
      ]
    },
    {
      "cell_type": "code",
      "metadata": {
        "id": "5ac4TLsvOy3M"
      },
      "source": [
        "#Através do método \"model.addVar()\" podemos criar as variáveis do problema\n",
        "\n",
        "x1 = model.addVar()\n",
        "x2 = model.addVar()\n",
        "x3 = model.addVar()\n",
        "x4 = model.addVar()\n",
        "s1 = model.addVar()\n",
        "s2 = model.addVar()\n",
        "s3 = model.addVar()\n",
        "s4 = model.addVar()"
      ],
      "execution_count": 5,
      "outputs": []
    },
    {
      "cell_type": "markdown",
      "metadata": {
        "id": "xybYfphvPUiU"
      },
      "source": [
        "Em seguida vamos definir a função objetivo:"
      ]
    },
    {
      "cell_type": "code",
      "metadata": {
        "id": "vCryT8fuPfaH"
      },
      "source": [
        "#Definição da função objetivo utilizando o método \"model.setObjective()\" passando\n",
        "#a expressão que representa a funçao objetivo, além disso devemos definir o\n",
        "#que a função objetivo busca, maximização ou minimização, definimos isso no\n",
        "#parâmetro \"sense\", \"gp.GRB.MAXIMIZE\" para maximização e \"gp.GRB.MINIMIZE\"\n",
        "#para minimização, no caso do problema queremos maximizar o lucro.\n",
        "\n",
        "model.setObjective(30 * x1 + 40 * x2 + 20 * x3 + 10 * x4 - (15 * s1 + 20 * s2 + 10 * s3 + 8 * s4), sense=gp.GRB.MAXIMIZE)"
      ],
      "execution_count": 7,
      "outputs": []
    },
    {
      "cell_type": "markdown",
      "metadata": {
        "id": "piGZeIh_ReEe"
      },
      "source": [
        "Ficou faltando somente as restrições, vamos defini-las:"
      ]
    },
    {
      "cell_type": "code",
      "metadata": {
        "id": "-IChyMrXRhgy"
      },
      "source": [
        "#Inserção das restrições do modelo através do médodo \"model.addConstr()\" \n",
        "#passando como parâmetro a restrição\n",
        "\n",
        "c1 = model.addConstr(0.30 * x1 + 0.30 * x2 + 0.25 * x3 + 0.15 * x4 <= 1000) #Corte\n",
        "c2 = model.addConstr(0.25 * x1 + 0.35 * x2 + 0.30 * x3 + 0.10 * x4 <= 1000) #Isolamento\n",
        "c3 = model.addConstr(0.45 * x1 + 0.50 * x2 + 0.40 * x3 + 0.22 * x4 <= 1000) #Costura\n",
        "c4 = model.addConstr(0.15 * x1 + 0.15 * x2 + 0.10 * x3 + 0.05 * x4 <= 1000) #Embalagem\n",
        "\n",
        "#demandas:\n",
        "#como temos restrições com igualdades \"=\" elas são separadas em 2: \n",
        "#uma com >= e outra com <=\n",
        "\n",
        "c5_1 = model.addConstr(x1 + s1 >= 800)\n",
        "c5_2 = model.addConstr(x1 + s1 <= 800)\n",
        "\n",
        "c6_1 = model.addConstr(x2 + s2 >= 750)\n",
        "c6_2 = model.addConstr(x2 + s2 <= 750)\n",
        "\n",
        "c7_1 = model.addConstr(x3 + s3 >= 600)\n",
        "c7_2 = model.addConstr(x3 + s3 <= 600)\n",
        "\n",
        "c8_1 = model.addConstr(x4 + s4 >= 500)\n",
        "c8_2 = model.addConstr(x4 + s4 <= 500)\n"
      ],
      "execution_count": 10,
      "outputs": []
    },
    {
      "cell_type": "markdown",
      "metadata": {
        "id": "YVwCEdcBTp_l"
      },
      "source": [
        "Temos todas as informações necessárias para resolver o modelo:"
      ]
    },
    {
      "cell_type": "code",
      "metadata": {
        "colab": {
          "base_uri": "https://localhost:8080/"
        },
        "id": "FrnO71wuTzsl",
        "outputId": "4991acc3-6bb6-42bf-d8da-a2a7ca50d550"
      },
      "source": [
        "#A função \"model.optimize()\" é a chamada do resolvedor para buscar solução\n",
        "#ótima para o problema.\n",
        "\n",
        "model.optimize()"
      ],
      "execution_count": 22,
      "outputs": [
        {
          "output_type": "stream",
          "text": [
            "Gurobi Optimizer version 9.1.1 build v9.1.1rc0 (linux64)\n",
            "Thread count: 1 physical cores, 2 logical processors, using up to 2 threads\n",
            "Optimize a model with 24 rows, 8 columns and 64 nonzeros\n",
            "Coefficient statistics:\n",
            "  Matrix range     [5e-02, 1e+00]\n",
            "  Objective range  [8e+00, 4e+01]\n",
            "  Bounds range     [0e+00, 0e+00]\n",
            "  RHS range        [5e+02, 1e+03]\n",
            "\n",
            "Solved in 0 iterations and 0.01 seconds\n",
            "Optimal objective  6.462500000e+04\n"
          ],
          "name": "stdout"
        }
      ]
    },
    {
      "cell_type": "markdown",
      "metadata": {
        "id": "K27dG0G8Vzsd"
      },
      "source": [
        "Precisamos agora das informações da solução do modelo.\n",
        "\n",
        "Vamos começar imprimindo os valores das variáveis primais:"
      ]
    },
    {
      "cell_type": "code",
      "metadata": {
        "colab": {
          "base_uri": "https://localhost:8080/"
        },
        "id": "e1RC07PwV4Ty",
        "outputId": "d93ae79b-f6fc-412f-8d74-3d11832cd57d"
      },
      "source": [
        "#Acessar o valor dar variáveis na solução ótima\n",
        "#o atributo 'X' nas variáveis nos dá o valor da mesma na solução ótima\n",
        "\n",
        "print(\"----------------VARIÁVEIS PRIMAIS----------------\\n\")\n",
        "\n",
        "print(\"Produção de x1: \", x1.X)\n",
        "print(\"Produção de x2: \", x2.X)\n",
        "print(\"Produção de x3: \", x3.X)\n",
        "print(\"Produção de x4: \", x4.X)\n",
        "\n",
        "print(\"\\nFaltante na produção de x1: \", s1.X)\n",
        "print(\"Faltante na produção de x2: \", s2.X)\n",
        "print(\"Faltante na produção de x3: \", s3.X)\n",
        "print(\"Faltante na produção de x4: \", s4.X)\n",
        "\n",
        "print(\"\\nLucro total: \", 6.462500000e+04)\n",
        "\n",
        "print(\"\\n------------------------------------------------\\n\")"
      ],
      "execution_count": 25,
      "outputs": [
        {
          "output_type": "stream",
          "text": [
            "----------------VARIÁVEIS PRIMAIS----------------\n",
            "\n",
            "Produção de x1:  800.0\n",
            "Produção de x2:  750.0\n",
            "Produção de x3:  387.5\n",
            "Produção de x4:  500.0\n",
            "\n",
            "Faltante na produção de x1:  0.0\n",
            "Faltante na produção de x2:  0.0\n",
            "Faltante na produção de x3:  212.5\n",
            "Faltante na produção de x4:  0.0\n",
            "\n",
            "Lucro total:  64625.0\n",
            "\n",
            "------------------------------------------------\n",
            "\n"
          ],
          "name": "stdout"
        }
      ]
    },
    {
      "cell_type": "markdown",
      "metadata": {
        "id": "NIy7-1HbZONk"
      },
      "source": [
        "As variáveis duais estão relacionadas com as restrições do modelo:"
      ]
    },
    {
      "cell_type": "code",
      "metadata": {
        "colab": {
          "base_uri": "https://localhost:8080/"
        },
        "id": "DNSHOSxAZT3N",
        "outputId": "0bcb4aac-b4ea-4ad4-8bd1-a432ed3e8b22"
      },
      "source": [
        "#Podemos acessar as variáveis duais através do atributo \"Pi\"\n",
        "\n",
        "print(\"----------------VARIÁVEIS DUAIS----------------\\n\")\n",
        "\n",
        "print(\"y1: \", c1.Pi)\n",
        "print(\"y2: \", c2.Pi)\n",
        "print(\"y3: \", c3.Pi)\n",
        "print(\"y4: \", c4.Pi)\n",
        "\n",
        "print(\"\\nRestrições de igualdade:\")\n",
        "\n",
        "print(\"\\ny5 (>=, y5_1): \", c5_1.Pi)\n",
        "print(\"y5 (<=, y5_2): \", c5_2.Pi)\n",
        "\n",
        "print(\"\\ny6 (>=, y6_1): \", c6_1.Pi)\n",
        "print(\"y6 (<=, y6_2): \", c6_2.Pi)\n",
        "\n",
        "print(\"\\ny7 (<=, y7_1): \", c7_1.Pi)\n",
        "print(\"y7 (>=, y7_2): \", c7_2.Pi)\n",
        "\n",
        "print(\"\\ny8 (<=, y8_1): \", c8_1.Pi)\n",
        "print(\"y8 (>=, y8_2): \", c8_2.Pi)\n",
        "\n",
        "print(\"\\n---------------------------------------------\\n\")"
      ],
      "execution_count": 24,
      "outputs": [
        {
          "output_type": "stream",
          "text": [
            "----------------VARIÁVEIS DUAIS----------------\n",
            "\n",
            "y1:  0.0\n",
            "y2:  0.0\n",
            "y3:  75.0\n",
            "y4:  0.0\n",
            "\n",
            "Restrições de igualdade:\n",
            "\n",
            "y5 (>=, y5_1):  0.0\n",
            "y5 (<=, y5_2):  0.0\n",
            "\n",
            "y6 (>=, y6_1):  0.0\n",
            "y6 (<=, y6_2):  2.5\n",
            "\n",
            "y7 (<=, y7_1):  0.0\n",
            "y7 (>=, y7_2):  0.0\n",
            "\n",
            "y8 (<=, y8_1):  0.0\n",
            "y8 (>=, y8_2):  0.0\n",
            "\n",
            "---------------------------------------------\n",
            "\n"
          ],
          "name": "stdout"
        }
      ]
    },
    {
      "cell_type": "markdown",
      "metadata": {
        "id": "UdDxSd0VXmj9"
      },
      "source": [
        "#**Comparação com a solução ótima do livro referência**\n",
        "---\n",
        "\n",
        "Vemos que a solução ótima obtida pelo Gurobi é exatamente a mesma da mostrada no livro referência para o problema exemplo:\n",
        "\n",
        "$x_1=800, x_2=750, x_3=387,5,x_4=500,s_1=s_2=s_4 = 0, s_3 = 212,5$\n",
        "\n",
        "lucro $z = 64.625$\n",
        "\n",
        "\n",
        "OBS: o valor $x1=850$ que aparece no livro é provavelmente um erro de digitação visto que todos os demais valores são iguais."
      ]
    },
    {
      "cell_type": "markdown",
      "metadata": {
        "id": "vCIfk8KYrDYo"
      },
      "source": [
        "#**Discussão sobre os resultados**\n",
        "---\n",
        "\n",
        "Vemos que o modelo reduziu ao máximo o número de produtos faltantes porque os mesmos impactam de forma negativa na função objetivo que é de maximização porém não foi possível zerar todos os produtos faltantes, a solução ótima ainda manteve a falta de 212,5 de calças. \n",
        "\n",
        "A velocidade com a qual o problema foi resolvido também é impressionante e mostra o potencial do simplex.\n",
        "\n",
        "Apesar de ser um problema bem simples, com ele foi possível aprender como utilizar o Gurobi, escrita do arquivo de entrada \".lp\" e demais funções. Podemos ver como é fácil pegar um modelo e implementa-lo no Gurobi."
      ]
    },
    {
      "cell_type": "markdown",
      "metadata": {
        "id": "2go-KsoQjUMC"
      },
      "source": [
        "#**Arquivo \".lp\" com o modelo do exemplo**\n",
        "---\n",
        "\n",
        "CÓDIGO ([link para baixar](https://drive.google.com/file/d/10WBu7iBp4lstwv3JP86fD6frP4UyMTtR/view?usp=sharing)):\n",
        "\n",
        "```\n",
        "Maximize\n",
        "  30 x1 + 40 x2 + 20 x3 + 10 x4 - 15 s1 - 20 s2 - 10 s3 - 8 s4\n",
        "Subject To\n",
        "  c0: 0.30 x1 + 0.30 x2 + 0.25 x3 + 0.15 x4 <= 1000\n",
        "  c1: 0.25 x1 + 0.35 x2 + 0.30 x3 + 0.10 x4 <= 1000\n",
        "  c2: 0.45 x1 + 0.50 x2 + 0.40 x3 + 0.22 x4 <= 1000\n",
        "  c3: 0.15 x1 + 0.15 x2 + 0.10 x3 + 0.05 x4 <= 1000\n",
        "  c4: x1 + s1 >= 800\n",
        "  c5: x1 + s1 <= 800\n",
        "  c6: x2 + s2 >= 750\n",
        "  c7: x2 + s2 <= 750\n",
        "  c8: x3 + s3 >= 600\n",
        "  c9: x3 + s3 <= 600\n",
        "  c10: x4 + s4 >= 500\n",
        "  c11: x4 + s4 <= 500\n",
        "Bounds\n",
        "  x1 >= 0\n",
        "  x2 >= 0\n",
        "  x3 >= 0\n",
        "  x4 >= 0\n",
        "  s1 >= 0\n",
        "  s2 >= 0\n",
        "  s3 >= 0\n",
        "  s4 >= 0\n",
        "Generals\n",
        "  x1 x2 x3 x4 s1 s2 s3 s4\n",
        "End\n",
        "\n",
        "```\n",
        "\n"
      ]
    },
    {
      "cell_type": "markdown",
      "metadata": {
        "id": "nsY8xmYQn57N"
      },
      "source": [
        "Verificando se o arquivo está correto:\n",
        "\n",
        "OBS: para repetir esse teste o arquivo tem que estar na mesma pasta, no Colab tem como adicionar o arquivo no canto superior esquerdo, ícone de uma pasta."
      ]
    },
    {
      "cell_type": "code",
      "metadata": {
        "colab": {
          "base_uri": "https://localhost:8080/"
        },
        "id": "hD16rN-7jyHt",
        "outputId": "11eb3610-e304-491e-e8ee-492c4ea92a0b"
      },
      "source": [
        "model = gp.read(\"exemplo2.3-4.lp\")\n",
        "model.optimize()\n",
        "variables = model.getVars()\n",
        "\n",
        "print(\"\\n\\n----------------VALORES ARREDONDADOS----------------\\n\")\n",
        "\n",
        "print(\"Produção de x1: \", variables[0].X)\n",
        "print(\"Produção de x2: \", variables[1].X)\n",
        "print(\"Produção de x3: \", variables[2].X)\n",
        "print(\"Produção de x4: \", variables[3].X)\n",
        "\n",
        "print(\"\\nFaltante na produção de x1: \", variables[4].X)\n",
        "print(\"Faltante na produção de x2: \", variables[5].X)\n",
        "print(\"Faltante na produção de x3: \", variables[6].X)\n",
        "print(\"Faltante na produção de x4: \", variables[7].X)\n",
        "\n",
        "print(\"\\nLucro total: \", 6.462500000e+04)\n",
        "\n",
        "print(\"\\n------------------------------------------------\\n\")"
      ],
      "execution_count": 36,
      "outputs": [
        {
          "output_type": "stream",
          "text": [
            "Read LP format model from file exemplo2.3-4.lp\n",
            "Reading time = 0.00 seconds\n",
            ": 12 rows, 8 columns, 32 nonzeros\n",
            "Gurobi Optimizer version 9.1.1 build v9.1.1rc0 (linux64)\n",
            "Thread count: 1 physical cores, 2 logical processors, using up to 2 threads\n",
            "Optimize a model with 12 rows, 8 columns and 32 nonzeros\n",
            "Model fingerprint: 0x4afd9830\n",
            "Variable types: 0 continuous, 8 integer (0 binary)\n",
            "Coefficient statistics:\n",
            "  Matrix range     [5e-02, 1e+00]\n",
            "  Objective range  [8e+00, 4e+01]\n",
            "  Bounds range     [0e+00, 0e+00]\n",
            "  RHS range        [5e+02, 1e+03]\n",
            "Presolve removed 11 rows and 4 columns\n",
            "Presolve time: 0.00s\n",
            "Presolved: 1 rows, 4 columns, 4 nonzeros\n",
            "Variable types: 0 continuous, 4 integer (0 binary)\n",
            "Found heuristic solution: objective 62510.000000\n",
            "\n",
            "Root relaxation: objective 6.462500e+04, 1 iterations, 0.00 seconds\n",
            "\n",
            "    Nodes    |    Current Node    |     Objective Bounds      |     Work\n",
            " Expl Unexpl |  Obj  Depth IntInf | Incumbent    BestBd   Gap | It/Node Time\n",
            "\n",
            "     0     0 64625.0000    0    1 62510.0000 64625.0000  3.38%     -    0s\n",
            "H    0     0                    64622.000000 64625.0000  0.00%     -    0s\n",
            "     0     0 64625.0000    0    1 64622.0000 64625.0000  0.00%     -    0s\n",
            "\n",
            "Explored 1 nodes (1 simplex iterations) in 0.02 seconds\n",
            "Thread count was 2 (of 2 available processors)\n",
            "\n",
            "Solution count 2: 64622 62510 \n",
            "\n",
            "Optimal solution found (tolerance 1.00e-04)\n",
            "Best objective 6.462200000000e+04, best bound 6.462200000000e+04, gap 0.0000%\n",
            "\n",
            "\n",
            "----------------VALORES ARREDONDADOS----------------\n",
            "\n",
            "Produção de x1:  800.0\n",
            "Produção de x2:  750.0\n",
            "Produção de x3:  388.0\n",
            "Produção de x4:  499.0\n",
            "\n",
            "Faltante na produção de x1:  0.0\n",
            "Faltante na produção de x2:  0.0\n",
            "Faltante na produção de x3:  212.0\n",
            "Faltante na produção de x4:  1.0\n",
            "\n",
            "Lucro total:  64625.0\n",
            "\n",
            "------------------------------------------------\n",
            "\n"
          ],
          "name": "stdout"
        }
      ]
    }
  ]
}