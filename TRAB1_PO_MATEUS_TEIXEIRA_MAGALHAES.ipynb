{
  "nbformat": 4,
  "nbformat_minor": 0,
  "metadata": {
    "colab": {
      "name": "TRAB1-PO-MATEUS-TEIXEIRA-MAGALHAES.ipynb",
      "provenance": [],
      "collapsed_sections": [],
      "authorship_tag": "ABX9TyPdc+38p4f1UyLNH99z9Sb2"
    },
    "kernelspec": {
      "name": "python3",
      "display_name": "Python 3"
    }
  },
  "cells": [
    {
      "cell_type": "markdown",
      "metadata": {
        "id": "VgACSBc0gdoF"
      },
      "source": [
        "#**Problema escolhido: exemplo 2.3-4 do livro referência.**\n",
        "##Modelo de produção de roupas de inverno para um único período\n",
        "\n",
        "\n",
        "**Definição do problema de forma resumida:**\n",
        "\n",
        "Uma empresa fabrica peças de roupa de inverno e devem entregar os produtos de forma a atender uma demanda. Cada produto possui a sua demanda, o não cumprimento da demanda acarreta em multa com um valor fixo para cada produto não entregue. As peças de roupa são fabricadas em 4 departamentos diferentes e cada um possui uma capacidade de produção. As informações podem ser visualizadas na tabela:\n",
        "\n",
        "\n"
      ]
    },
    {
      "cell_type": "markdown",
      "metadata": {
        "id": "pyVPK7v1sY2f"
      },
      "source": [
        "|Departamento  | Parca   | Penas    | Calças   | Luvas   | Capacidade (por hora)   |\n",
        "|----:|------:-------|:-----------|:------|:------|:------|\n",
        "| Corte | 0,30  | 0,30       | 0,25   | 0,15     |   1.000     |\n",
        "| Isolamento | 0,25  | 0,35       | 0,30   | 0,10     |   1.000     |\n",
        "| Costura | 0,45  | 0,50       | 0,40   | 0,22     |   1.000     |\n",
        "| Embalagem | 0,15  | 0,15       | 0,10   | 0,05     |   1.000     |\n",
        "| Demanda | 800  | 750       | 600   | 500     |        |\n",
        "| Lucro por unidade (\\$) | 30  | 40       | 20   | 10     |        |\n",
        "| Multa por unidade (\\$) | 15  | 20       | 10   | 8     |        |\n",
        "\n",
        "\n"
      ]
    },
    {
      "cell_type": "markdown",
      "metadata": {
        "id": "SjBD9ZoGvM46"
      },
      "source": [
        "#**MODELO MATEMÁTICO**"
      ]
    },
    {
      "cell_type": "markdown",
      "metadata": {
        "id": "s4VvnyiR59on"
      },
      "source": [
        "##**Definição das variáveis do problema:**\n",
        "\n",
        "O número de peças de roupas produzidas pode ser definido pelas variáveis:\n",
        "\n",
        "$x_1=$ número de parcas\n",
        "\n",
        "$x_2=$ número de jaquetas de penas\n",
        "\n",
        "$x_3=$ número de calças\n",
        "\n",
        "$x_4=$ número de pares de luvas\n",
        "\n",
        "A empresa é multada caso não atenda a demanda, assim podemos definir as variáveis relacionadas a quantidade de itens faltantes, definindo $s_j$ = número de unidades faltantes do produto $j$, $j=1,2,3,4$ :\n",
        "\n",
        "$s_1=$ número faltante de parcas\n",
        "\n",
        "$s_2=$ número faltante de jaquetas de penas\n",
        "\n",
        "$s_3=$ número faltante de calças\n",
        "\n",
        "$s_4=$ número faltantede pares de luvas"
      ]
    },
    {
      "cell_type": "markdown",
      "metadata": {
        "id": "5AZVjvLe59zb"
      },
      "source": [
        "##**Definição das restrições do problema:**\n",
        "\n",
        "Da demanda de cada produto podemos estabelecer as relações:\n",
        "\n",
        "$x_1 + s_1 = 800$\n",
        "\n",
        "$x_2 + s_2 = 750$\n",
        "\n",
        "$x_3 + s_3 = 600$\n",
        "\n",
        "$x_4 + s_4 = 500$\n",
        "\n",
        "A partir das capacidades disponíveis em cada departamento, primeiras 4 linhas da tabela de dados, temos as restrições:\n",
        "\n",
        "$0,30x_1+0,30x_2+0,25x_3+0,15x_4\\leq1.000$ (Corte)\n",
        "\n",
        "$0,25x_1+0,35x_2+0,30x_3+0,10x_4\\leq1.000$ (Isolamento)\n",
        "\n",
        "$0,45x_1+0,50x_2+0,40x_3+0,22x_4\\leq1.000$ (Costura)\n",
        "\n",
        "$0,15x_1+0,15x_2+0,10x_3+0,05x_4\\leq1.000$ (Embalagem)"
      ]
    },
    {
      "cell_type": "markdown",
      "metadata": {
        "id": "BEP8wpYU597Z"
      },
      "source": [
        "##**Definição da função objetivo do problema:**\n",
        "\n",
        "O objetivo da empresa é maximizar os lucros. Como existem multas que podem ser aplicadas temos que a função objetivo é:\n",
        "\n",
        "Maximizar z = lucro - multas\n",
        "\n",
        "o lucro pode ser obtido pela linha \"Lucro por unidade($)\" e a multa pela coluna de multa da tabela:\n",
        "\n",
        "logo a função objetivo é da forma:\n",
        "\n",
        "**Maximizar** $z=30x_1 + 40x_2 + 20x_3 + 10x_4 - (15s_1 + 20s_2+10s_3+8s_4)$\n",
        "\n",
        "Dessa forma chegamos ao modelo."
      ]
    },
    {
      "cell_type": "markdown",
      "metadata": {
        "id": "o2fwxk-N5-DR"
      },
      "source": [
        "##**Modelo matemático:**\n",
        "**Maximizar** $z=30x_1 + 40x_2 + 20x_3 + 10x_4 - (15s_1 + 20s_2+10s_3+8s_4)$\n",
        "\n",
        "**sujeito a**\n",
        "\n",
        "$\\quad \\quad \\quad \\quad 0,30x_1+0,30x_2+0,25x_3+0,15x_4\\leq1.000$ \\\\\n",
        "$\\quad \\quad \\quad \\quad 0,25x_1+0,35x_2+0,30x_3+0,10x_4\\leq1.000$ \\\\\n",
        "$\\quad \\quad \\quad \\quad 0,45x_1+0,50x_2+0,40x_3+0,22x_4\\leq1.000$ \\\\\n",
        "$\\quad \\quad \\quad \\quad 0,15x_1+0,15x_2+0,10x_3+0,05x_4\\leq1.000$ \\\\\n",
        "$x_1 + s_1 = 800, x_2 + s_2 = 750, x_3 + s_3 = 600, x_4 + s_4 = 500$ \\\\\n",
        "$\\quad \\quad \\quad \\quad \\quad \\quad \\quad \\quad x_j, s_j\\geq 0, j = 1, 2, 3, 4$"
      ]
    }
  ]
}